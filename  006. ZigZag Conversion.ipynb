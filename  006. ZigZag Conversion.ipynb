{
 "cells": [
  {
   "cell_type": "markdown",
   "metadata": {},
   "source": [
    "# 006. ZigZag Conversion   \n",
    "## Question\n",
    "Total Accepted: 120038\n",
    "\n",
    "Total Submissions: 468697\n",
    "\n",
    "Difficulty: Easy\n",
    "\n",
    "\n",
    "The string \"PAYPALISHIRING\" is written in a zigzag pattern on a given number of rows like this: (you may want to display this pattern in a fixed font for better legibility)\n",
    "```\n",
    "P   A   H   N\n",
    "A P L S I I G\n",
    "Y   I   R\n",
    "```\n",
    "And then read line by line: `\"PAHNAPLSIIGYIR\"`\n",
    "\n",
    "Write the code that will take a string and make this conversion given a number of rows:\n",
    "\n",
    "string convert(string text, int nRows);\n",
    "\n",
    "convert`(\"PAYPALISHIRING\", 3)` should return `\"PAHNAPLSIIGYIR\"`.\n"
   ]
  },
  {
   "cell_type": "markdown",
   "metadata": {},
   "source": [
    "## 思路\n",
    "解题思路：字符串处理，没什么知识点，需要一点编程技巧。\n",
    "Zigzag:即循环对角线结构（\n",
    "```\n",
    "0\t \t \t \t8\t \t \t \t16\t \t \t \n",
    "1\t \t \t7\t9\t \t \t15\t17\t \t \t \n",
    "2\t \t6\t \t10\t \t14\t \t18\t \t \t \n",
    "3\t5\t \t \t11\t13\t \t \t19\t \t \t \n",
    "4\t \t \t \t12\t \t \t \t20\t \n",
    "```\n",
    "这就清楚了，利用输入字符打印一个倒立之字形的图样。\n",
    "\n",
    " 关键是要会如何计算各个字符的位置，这就需要数学知识了，根据特殊推导出公式来。\n",
    " \n",
    "主要是3个公式：\n",
    "\n",
    "1. 之字形行数为nRows,那么每次重复样出现前的间隔字符为zigSpan = nRows*2-2;\n",
    "2. 第一行和最尾一行都是存放一个字符的，所以存储的字符为间隔为zigSpan的字符\n",
    "3. 中间行是需要额外存储多一个字符的，存储的字符位置是： zigSpan + j - 2*i（其中i为行数，j为该行第几个字符了）\n"
   ]
  },
  {
   "cell_type": "markdown",
   "metadata": {},
   "source": [
    "## 坑"
   ]
  },
  {
   "cell_type": "markdown",
   "metadata": {},
   "source": [
    "## code"
   ]
  },
  {
   "cell_type": "code",
   "execution_count": 41,
   "metadata": {
    "collapsed": false
   },
   "outputs": [],
   "source": [
    "class Solution(object):\n",
    "    def convert(self, s, numRows):\n",
    "        \"\"\"\n",
    "        :type s: str\n",
    "        :type numRows: int\n",
    "        :rtype: str\n",
    "        \"\"\"\n",
    "        if len(s)== 1:\n",
    "            return s\n",
    "        if len(s) <= numRows or numRows == 1:\n",
    "            return s   \n",
    "        size = len(s)\n",
    "\n",
    "        ans = ''\n",
    "        i = 0\n",
    "        while i < numRows:\n",
    "            j = i\n",
    "            if i == 0 or i == numRows - 1:\n",
    "                while j < size:\n",
    "                    ans += s[j]\n",
    "                    j += 2*numRows - 2\n",
    "                    if 2 * numRows - 2 == 0:\n",
    "                        break\n",
    "            else:\n",
    "                while j < size:\n",
    "                    ans += s[j]\n",
    "                    j += 2*(numRows - i) - 2\n",
    "                    if j >= size:\n",
    "                        break\n",
    "                    ans += s[j]\n",
    "                    j += 2*i\n",
    "            i += 1\n",
    "        return ans\n",
    "            \n",
    "       "
   ]
  },
  {
   "cell_type": "code",
   "execution_count": 42,
   "metadata": {
    "collapsed": false
   },
   "outputs": [
    {
     "data": {
      "text/plain": [
       "'PAHNAPLSIIGYIR'"
      ]
     },
     "execution_count": 42,
     "metadata": {},
     "output_type": "execute_result"
    }
   ],
   "source": [
    "test = Solution()\n",
    "test.convert(\"PAYPALISHIRING\", 3)   "
   ]
  },
  {
   "cell_type": "code",
   "execution_count": null,
   "metadata": {
    "collapsed": true
   },
   "outputs": [],
   "source": [
    "PAHNAPLSIIGYIR"
   ]
  }
 ],
 "metadata": {
  "kernelspec": {
   "display_name": "Python 2",
   "language": "python",
   "name": "python2"
  },
  "language_info": {
   "codemirror_mode": {
    "name": "ipython",
    "version": 2
   },
   "file_extension": ".py",
   "mimetype": "text/x-python",
   "name": "python",
   "nbconvert_exporter": "python",
   "pygments_lexer": "ipython2",
   "version": "2.7.11"
  }
 },
 "nbformat": 4,
 "nbformat_minor": 0
}
