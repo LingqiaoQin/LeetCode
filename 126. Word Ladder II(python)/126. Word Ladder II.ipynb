{
 "cells": [
  {
   "cell_type": "markdown",
   "metadata": {},
   "source": [
    "\n",
    "# 126. Word Ladder II \n",
    "## Q\n",
    "Total Accepted: 55433\n",
    "\n",
    "Total Submissions: 406254\n",
    "\n",
    "Difficulty: Hard\n",
    "\n",
    "Given two words (beginWord and endWord), and a dictionary's word list, find all shortest transformation sequence(s) from beginWord to endWord, such that:\n",
    "\n",
    "- Only one letter can be changed at a time\n",
    "\n",
    "- Each intermediate word must exist in the word list\n",
    "\n",
    "### For example,\n",
    "\n",
    "Given:\n",
    "\n",
    "beginWord = \"hit\"\n",
    "\n",
    "endWord = \"cog\"\n",
    "\n",
    "wordList = [\"hot\",\"dot\",\"dog\",\"lot\",\"log\"]\n",
    "\n",
    "Return\n",
    "```\n",
    "  [\n",
    "    [\"hit\",\"hot\",\"dot\",\"dog\",\"cog\"],\n",
    "    [\"hit\",\"hot\",\"lot\",\"log\",\"cog\"]\n",
    "  ]\n",
    "```\n",
    "### Note:\n",
    "\n",
    "- All words have the same length.\n",
    "- All words contain only lowercase alphabetic characters."
   ]
  },
  {
   "cell_type": "markdown",
   "metadata": {},
   "source": [
    "## 思想\n",
    "题意：给定start单词，end单词，以及一个dict字典。要求找出start到end的所有最短路径，路径上的每个单词都要出现在dict中，且每次改变一个字母。"
   ]
  },
  {
   "cell_type": "code",
   "execution_count": null,
   "metadata": {
    "collapsed": true
   },
   "outputs": [],
   "source": []
  },
  {
   "cell_type": "code",
   "execution_count": null,
   "metadata": {
    "collapsed": true
   },
   "outputs": [],
   "source": [
    "class Solution(object):\n",
    "    def findLadders(self, beginWord, endWord, wordlist):\n",
    "        \"\"\"\n",
    "        :type beginWord: str\n",
    "        :type endWord: str\n",
    "        :type wordlist: Set[str]\n",
    "        :rtype: List[List[int]]\n",
    "        \"\"\"\n",
    "        "
   ]
  },
  {
   "cell_type": "code",
   "execution_count": null,
   "metadata": {
    "collapsed": true
   },
   "outputs": [],
   "source": []
  }
 ],
 "metadata": {
  "kernelspec": {
   "display_name": "Python 2",
   "language": "python",
   "name": "python2"
  },
  "language_info": {
   "codemirror_mode": {
    "name": "ipython",
    "version": 2
   },
   "file_extension": ".py",
   "mimetype": "text/x-python",
   "name": "python",
   "nbconvert_exporter": "python",
   "pygments_lexer": "ipython2",
   "version": "2.7.11"
  }
 },
 "nbformat": 4,
 "nbformat_minor": 0
}
