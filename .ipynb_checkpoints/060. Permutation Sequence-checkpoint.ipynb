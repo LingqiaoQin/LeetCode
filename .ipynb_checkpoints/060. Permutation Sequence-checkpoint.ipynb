{
 "cells": [
  {
   "cell_type": "markdown",
   "metadata": {},
   "source": [
    "# 060. Permutation Sequence\n",
    "\n",
    "## Question\n",
    "\n",
    "- Total Accepted: 69709\n",
    "- Total Submissions: 260070\n",
    "- Difficulty: Medium\n",
    "\n",
    "The set [1,2,3,…,n] contains a total of n! unique permutations.\n",
    "\n",
    "By listing and labeling all of the permutations in order,\n",
    "We get the following sequence (ie, for n = 3):\n",
    "```\n",
    "\"123\"\n",
    "\"132\"\n",
    "\"213\"\n",
    "\"231\"\n",
    "\"312\"\n",
    "\"321\"\n",
    "```\n",
    "Given n and k, return the kth permutation sequence.\n",
    "\n",
    "Note: Given n will be between 1 and 9 inclusive."
   ]
  },
  {
   "cell_type": "markdown",
   "metadata": {},
   "source": [
    "## analysis\n",
    "以6个数字的全排列为例说明，相当于用1,2,3,4,5,6 构造一个六位数，每一位上取一个数，这样一共有6！中方法。\n",
    "很显然，这6！个数是有大小的，如果按从小到大排列，示意如下：\n",
    "```\n",
    "1 2 3 4 5 6\n",
    "1 2 3 4 6 5\n",
    "1 2 3 5 4 6\n",
    "…………\n",
    "6 5 4 3 2 1\n",
    "```\n",
    "显然 ， 每个数有 **唯一后继**  ！ 如果找到一个数没有后继（6 5 4 3 2 1），则停止。\n",
    "\n",
    "那么问题的重点在于如何判断是否有后继，以及怎样找到后继 !\n",
    "\n",
    "是否有后继很好判断，唯一没有后继的只有654321,它的特点是每位的数字比后面的大！\n",
    "\n",
    "如何找到后继，思路很清楚，即对于一个数，找到一个比它大的、最小的数！\n",
    "### 算法\n",
    "1. \n",
    "\n",
    "\n",
    "## 坑\n",
    "在面试时需要注意咨询面试官，输入的k 是否小于1 或者 是否大于n!\n",
    "\n",
    "### 全排列性质\n",
    "\n",
    "1. 全排列总共有n!种排列情况\n",
    "\n",
    "2. 某个数固定开头的排列个数 = (n-1)!\n",
    "\n",
    "2. 假设全排列有n个数组成，则第k个全排列的第一位是 是原数组（原数组递增有序）的第m = upper(K/(n -1)!) = 3（upper表示向上取整）个数。  "
   ]
  },
  {
   "cell_type": "markdown",
   "metadata": {},
   "source": [
    "##  Time Limit Exceeded  Code"
   ]
  },
  {
   "cell_type": "code",
   "execution_count": 19,
   "metadata": {
    "collapsed": false
   },
   "outputs": [
    {
     "name": "stdout",
     "output_type": "stream",
     "text": [
      "res: 783269514\n",
      "CPU times: user 416 ms, sys: 7.12 ms, total: 423 ms\n",
      "Wall time: 447 ms\n"
     ]
    },
    {
     "data": {
      "text/plain": [
       "'783269514'"
      ]
     },
     "execution_count": 19,
     "metadata": {},
     "output_type": "execute_result"
    }
   ],
   "source": [
    "class Solution(object):\n",
    "    def getPermutation(self, n, k):\n",
    "        \"\"\"\n",
    "        :type n: int\n",
    "        :type k: int\n",
    "        :rtype: str\n",
    "        \"\"\"\n",
    "        if n < 2:\n",
    "            return str(n)\n",
    "        l = range(1,n + 1)\n",
    "        count = 0\n",
    "        flag = True\n",
    "        while flag:\n",
    "            count +=1\n",
    "            if count == k:\n",
    "                return \"\".join([str(i) for i in l])\n",
    "            \n",
    "            p1 = 0\n",
    "            for i in xrange(n - 2, -1, -1):\n",
    "                if l[i] < l[i + 1]:\n",
    "                    p1 = i\n",
    "                    break\n",
    "                elif i == 0 :\n",
    "                    flag = False\n",
    "            \n",
    "            for j in xrange(n - 1, -1 , -1):\n",
    "                if l[j] > l[p1]:\n",
    "                    l[j], l[p1] = l[p1], l[j]\n",
    "                    break\n",
    "            \n",
    "            left = p1 + 1\n",
    "            right = n - 1\n",
    "            l[left:right + 1 ] = l[right: left - 1: -1]\n",
    "\n",
    "t = Solution()\n",
    "print \"res: 783269514\"\n",
    "%time t.getPermutation(9, 273815)            "
   ]
  },
  {
   "cell_type": "code",
   "execution_count": 1,
   "metadata": {
    "collapsed": false
   },
   "outputs": [
    {
     "data": {
      "text/plain": [
       "[1, 2, 3]"
      ]
     },
     "execution_count": 1,
     "metadata": {},
     "output_type": "execute_result"
    }
   ],
   "source": [
    "range(1,4)\n"
   ]
  },
  {
   "cell_type": "code",
   "execution_count": 12,
   "metadata": {
    "collapsed": false
   },
   "outputs": [
    {
     "data": {
      "text/plain": [
       "1"
      ]
     },
     "execution_count": 12,
     "metadata": {},
     "output_type": "execute_result"
    }
   ],
   "source": [
    "9/6"
   ]
  },
  {
   "cell_type": "code",
   "execution_count": 18,
   "metadata": {
    "collapsed": false
   },
   "outputs": [
    {
     "data": {
      "text/plain": [
       "2"
      ]
     },
     "execution_count": 18,
     "metadata": {},
     "output_type": "execute_result"
    }
   ],
   "source": []
  },
  {
   "cell_type": "code",
   "execution_count": null,
   "metadata": {
    "collapsed": true
   },
   "outputs": [],
   "source": []
  }
 ],
 "metadata": {
  "kernelspec": {
   "display_name": "Python 2",
   "language": "python",
   "name": "python2"
  },
  "language_info": {
   "codemirror_mode": {
    "name": "ipython",
    "version": 2
   },
   "file_extension": ".py",
   "mimetype": "text/x-python",
   "name": "python",
   "nbconvert_exporter": "python",
   "pygments_lexer": "ipython2",
   "version": "2.7.11"
  }
 },
 "nbformat": 4,
 "nbformat_minor": 0
}
