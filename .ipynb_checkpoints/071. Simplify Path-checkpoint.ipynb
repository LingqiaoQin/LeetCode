{
 "cells": [
  {
   "cell_type": "markdown",
   "metadata": {},
   "source": [
    "\n",
    "# 071. Simplify Path   \n",
    "## Question\n",
    "\n",
    "- Total Accepted: 68646\n",
    "- Total Submissions: 290138\n",
    "- Difficulty: Medium \n",
    "\n",
    "Given an absolute path for a file (Unix-style), simplify it.\n",
    "\n",
    "For example,\n",
    "```\n",
    "path = \"/home/\", => \"/home\"\n",
    "path = \"/a/./b/../../c/\", => \"/c\"\n",
    "```\n",
    "Corner Cases:\n",
    "\n",
    "Did you consider the case where `path = \"/../\"`?\n",
    "In this case, you should return `\"/\"`.\n",
    "\n",
    "Another corner case is the path might contain multiple slashes `'/'` together, such as `\"/home//foo/\".`\n",
    "In this case, you should ignore redundant slashes and return `\"/home/foo\"`."
   ]
  },
  {
   "cell_type": "markdown",
   "metadata": {},
   "source": [
    "## 思路\n",
    "没有什么特别难的。在python 下尤其简单，将原字符串split（‘/’） 成一个队列以后：\n",
    "\n",
    "就是判断三种情况：\n",
    "1. `//` 跳过\n",
    "2. `./` 跳过\n",
    "3. `../` pop()\n",
    "处理后，拼接。\n",
    "\n",
    "注意 ，split ，和join两个函数的性质。 就\n"
   ]
  },
  {
   "cell_type": "markdown",
   "metadata": {},
   "source": [
    "## code  Runtime: 42 ms"
   ]
  },
  {
   "cell_type": "code",
   "execution_count": 21,
   "metadata": {
    "collapsed": true
   },
   "outputs": [],
   "source": [
    "class Solution(object):\n",
    "    def simplifyPath(self, path):\n",
    "        \"\"\"\n",
    "        :type path: str\n",
    "        :rtype: str\n",
    "        \"\"\"\n",
    "        paths = path.split('/')\n",
    "        res  = []\n",
    "        for i in paths:\n",
    "            if i == '' or i  == '.':\n",
    "                continue\n",
    "\n",
    "            if i == '..':\n",
    "                if len(res) > 0:    \n",
    "                    x = res.pop()\n",
    "                continue\n",
    "\n",
    "            res.append(i)  \n",
    "        return  '/' + '/'.join(res)"
   ]
  },
  {
   "cell_type": "code",
   "execution_count": null,
   "metadata": {
    "collapsed": true
   },
   "outputs": [],
   "source": []
  }
 ],
 "metadata": {
  "kernelspec": {
   "display_name": "Python 2",
   "language": "python",
   "name": "python2"
  },
  "language_info": {
   "codemirror_mode": {
    "name": "ipython",
    "version": 2
   },
   "file_extension": ".py",
   "mimetype": "text/x-python",
   "name": "python",
   "nbconvert_exporter": "python",
   "pygments_lexer": "ipython2",
   "version": "2.7.11"
  }
 },
 "nbformat": 4,
 "nbformat_minor": 0
}
