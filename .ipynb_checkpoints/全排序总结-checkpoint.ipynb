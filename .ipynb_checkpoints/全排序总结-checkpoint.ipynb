{
 "cells": [
  {
   "cell_type": "markdown",
   "metadata": {},
   "source": [
    "对数组进行全排列是一个比较常见问题，如果是一个比较喜欢考算法的公司（貌似一些大公司都比较喜欢考算法），那么估计就会考察应聘者这个全排列的问题了（就算不让你编写完整代码，也会让你描述大致的思路）。\n",
    "### 问题定义\n",
    "\n",
    "对于一个给定的序列 a = [a1, a2, a3, … , an]，请设计一个算法，用于输出这个序列的全部排列方式。 \n",
    "例如：a = [1, 2, 3] \n",
    "输出\n",
    "\n",
    "```\n",
    "[1, 2, 3]\n",
    "[1, 3, 2]\n",
    "[2, 1, 3]\n",
    "[2, 3, 1]\n",
    "[3, 2, 1]\n",
    "[3, 1, 2]\n",
    "```\n",
    "\n",
    "如果要按从小到大输出呢？算法又要怎么写？"
   ]
  },
  {
   "cell_type": "markdown",
   "metadata": {},
   "source": [
    "## 所有元素均无相同的情况\n",
    "### 递归实现"
   ]
  },
  {
   "cell_type": "code",
   "execution_count": null,
   "metadata": {
    "collapsed": true
   },
   "outputs": [],
   "source": []
  }
 ],
 "metadata": {
  "kernelspec": {
   "display_name": "Python 2",
   "language": "python",
   "name": "python2"
  },
  "language_info": {
   "codemirror_mode": {
    "name": "ipython",
    "version": 2
   },
   "file_extension": ".py",
   "mimetype": "text/x-python",
   "name": "python",
   "nbconvert_exporter": "python",
   "pygments_lexer": "ipython2",
   "version": "2.7.11"
  }
 },
 "nbformat": 4,
 "nbformat_minor": 0
}
