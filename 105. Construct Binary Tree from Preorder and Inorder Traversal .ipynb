{
 "cells": [
  {
   "cell_type": "markdown",
   "metadata": {},
   "source": [
    "# 105. Construct Binary Tree from Preorder and Inorder Traversal   "
   ]
  },
  {
   "cell_type": "markdown",
   "metadata": {},
   "source": [
    "## Q \n",
    "Total Accepted: 81109\n",
    "\n",
    "Total Submissions: 267215\n",
    "\n",
    "Difficulty: Medium\n",
    "\n",
    "Given preorder and inorder traversal of a tree, construct the binary tree.\n",
    "\n",
    "Note:\n",
    "You may assume that duplicates do not exist in the tree."
   ]
  },
  {
   "cell_type": "markdown",
   "metadata": {},
   "source": [
    "## 思路\n",
    "题意：给定一棵树的前序和中序遍历，构建这棵树\n",
    "对一棵树：\n",
    "```\n",
    "   3\n",
    "   / \\\n",
    "  9  20\n",
    "    /  \\\n",
    "   15   7\n",
    "```\n",
    "前序遍历为： 3,9,20,15,7\n",
    "\n",
    "中序遍历为： 9,3,15,20,7\n",
    "\n",
    "前序遍历的第一个一定是根结点，而中序遍历的根结点把树准确的分为左子树和右子树。\n",
    "\n",
    "所以，在中序遍历中查找3，发现下标为1，那么[0,0]为左子树，[2,4]为右子树。\n",
    "\n",
    "递归的往下查找即可。"
   ]
  },
  {
   "cell_type": "markdown",
   "metadata": {},
   "source": [
    "## 坑\n",
    "- 为空时的返回\n",
    "- 递归时下标的计算"
   ]
  },
  {
   "cell_type": "markdown",
   "metadata": {},
   "source": [
    "## code 136 ms"
   ]
  },
  {
   "cell_type": "code",
   "execution_count": 5,
   "metadata": {
    "collapsed": true
   },
   "outputs": [],
   "source": [
    "# Definition for a binary tree node.\n",
    "# class TreeNode(object):\n",
    "#     def __init__(self, x):\n",
    "#         self.val = x\n",
    "#         self.left = None\n",
    "#         self.right = None\n",
    "\n",
    "class Solution(object):\n",
    "    def buildTree(self, preorder, inorder):\n",
    "        \"\"\"\n",
    "        :type preorder: List[int]\n",
    "        :type inorder: List[int]\n",
    "        :rtype: TreeNode\n",
    "        \"\"\"\n",
    "        if preorder == None or inorder == None:\n",
    "            return N []\n",
    "        \n",
    "        return self.dfs(preorder, inorder, 0, len(preorder)-1, 0, len(inorder) - 1 )\n",
    "    \n",
    "    def dfs(self, preorder, inorder, pb, pe, ib, ie):\n",
    "        if pb > pe:\n",
    "            return None\n",
    "        \n",
    "        root = TreeNode(preorder[pb])\n",
    "        index = inorder.index(preorder[pb])\n",
    "        left = self.dfs(preorder, inorder,  pb + 1, pb +  index - ib, ib, index - 1)\n",
    "        right = self.dfs(preorder, inorder, pb + index - ib + 1 , pe , index + 1, ie )\n",
    "        root.left, root.right = left, right\n",
    "        return root\n",
    "    "
   ]
  },
  {
   "cell_type": "markdown",
   "metadata": {},
   "source": [
    "## test"
   ]
  },
  {
   "cell_type": "code",
   "execution_count": 12,
   "metadata": {
    "collapsed": false
   },
   "outputs": [
    {
     "name": "stdout",
     "output_type": "stream",
     "text": [
      "[3, 9, 20, '#', '#', 15, 7, '#', '#', '#', '#']\n"
     ]
    }
   ],
   "source": [
    "# Definition for a binary tree node.\n",
    "class TreeNode(object):\n",
    "    def __init__(self, x):\n",
    "        self.val = x\n",
    "        self.left = None\n",
    "        self.right = None\n",
    "\n",
    "        \n",
    "# 可以用bfs进行层次遍历来检验\n",
    "def printTree(root):\n",
    "    q ,ans =[],[]\n",
    "    q.append(root)\n",
    "    while q :\n",
    "        cur = q.pop(0)\n",
    "        if cur:\n",
    "            q.append(cur.left)\n",
    "            q.append(cur.right)\n",
    "            ans.append(cur.val)\n",
    "        else:\n",
    "            ans.append('#')\n",
    "    print ans\n",
    "\n",
    "test = Solution()\n",
    "x= test.buildTree([3,9,20,15,7],[9,3,15,20,7])\n",
    "printTree(x)"
   ]
  },
  {
   "cell_type": "code",
   "execution_count": null,
   "metadata": {
    "collapsed": true
   },
   "outputs": [],
   "source": []
  }
 ],
 "metadata": {
  "kernelspec": {
   "display_name": "Python 2",
   "language": "python",
   "name": "python2"
  },
  "language_info": {
   "codemirror_mode": {
    "name": "ipython",
    "version": 2
   },
   "file_extension": ".py",
   "mimetype": "text/x-python",
   "name": "python",
   "nbconvert_exporter": "python",
   "pygments_lexer": "ipython2",
   "version": "2.7.11"
  }
 },
 "nbformat": 4,
 "nbformat_minor": 0
}
