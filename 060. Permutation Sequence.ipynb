{
 "cells": [
  {
   "cell_type": "markdown",
   "metadata": {},
   "source": [
    "# 060. Permutation Sequence\n",
    "\n",
    "## Question\n",
    "\n",
    "- Total Accepted: 69709\n",
    "- Total Submissions: 260070\n",
    "- Difficulty: Medium\n",
    "\n",
    "The set [1,2,3,…,n] contains a total of n! unique permutations.\n",
    "\n",
    "By listing and labeling all of the permutations in order,\n",
    "We get the following sequence (ie, for n = 3):\n",
    "```\n",
    "\"123\"\n",
    "\"132\"\n",
    "\"213\"\n",
    "\"231\"\n",
    "\"312\"\n",
    "\"321\"\n",
    "```\n",
    "Given n and k, return the kth permutation sequence.\n",
    "\n",
    "Note: Given n will be between 1 and 9 inclusive."
   ]
  },
  {
   "cell_type": "markdown",
   "metadata": {},
   "source": [
    "## analysis (遍历到 k, 超时)  \n",
    "以6个数字的全排列为例说明，相当于用1,2,3,4,5,6 构造一个六位数，每一位上取一个数，这样一共有6！中方法。\n",
    "很显然，这6！个数是有大小的，如果按从小到大排列，示意如下：\n",
    "```\n",
    "1 2 3 4 5 6\n",
    "1 2 3 4 6 5\n",
    "1 2 3 5 4 6\n",
    "…………\n",
    "6 5 4 3 2 1\n",
    "```\n",
    "显然 ， 每个数有 **唯一后继**  ！ 如果找到一个数没有后继（6 5 4 3 2 1），则停止。\n",
    "\n",
    "那么问题的重点在于如何判断是否有后继，以及怎样找到后继 !\n",
    "\n",
    "是否有后继很好判断，唯一没有后继的只有654321,它的特点是每位的数字比后面的大！\n",
    "\n",
    "如何找到后继，思路很清楚，即对于一个数，找到一个比它大的、最小的数！\n",
    "\n",
    "### 算法\n",
    "\n",
    "1. 按字典排序\n",
    "\n",
    "2. 在循环中:\n",
    "\n",
    "    2.1. 从后向前,先找到不符合后继要求的元素(p1 < p1+1)\n",
    "    \n",
    "    2.2. 从后向前,和第一个比他大的数交换位置 \n",
    "    \n",
    "    2.3. 对p1之后的数逆序,(保证所得到的新排列才刚刚好比上个排列大一)\n",
    "\n",
    "## analysis(数学的方法)\n",
    "\n",
    "根据全排列性质: 第k个全排列的第一位是 是原数组（原数组递增有序）的第m = upper(K/(n -1)!) = 3（upper表示向上取整）个数。\n",
    "\n",
    "我采用的方法是计算第k个Permutation。\n",
    "\n",
    "假设n = 4，k = 12\n",
    "\n",
    "先计算第一位，\n",
    "\n",
    "我们从高位到低位转化，直觉应该是用 k/(n-1)!, 但以 n=3,k=5 和 n=3,k=6 代入计算后发现边界处理起来不太方便，故我们可以尝试将 k 减1进行运算，后面的基准也随之变化。第一个数可以通过(k-1)/(n-1)!进行计算，\n",
    "\n",
    "\n",
    "一个一个地枚举，直到第一位为4时才行，这时，4xxxxx至少为第5! * 3 + 1 = 361个排列。\n",
    "\n",
    " \n",
    "\n",
    "然后计算第二位，\n",
    "\n",
    "与计算第一位时的区别在于，46xxxx至少为第4! * 4 + 1 = 97个排列，这是因为比6小的只有5/3/2/1了。\n",
    "\n",
    "最后可以计算出第二位为2。\n",
    "\n",
    " \n",
    "\n",
    "最终得出第400个排列为425361。\n",
    "\n",
    "## 坑\n",
    "\n",
    "在面试时需要注意咨询面试官，输入的k 是否小于1 或者 是否大于n!\n",
    "\n",
    "### 全排列性质\n",
    "\n",
    "1. 全排列总共有n!种排列情况\n",
    "\n",
    "2. 某个数固定开头的排列个数 = (n-1)!\n",
    "\n",
    "2. 假设全排列有n个数组成，则第k个全排列的第一位是 是原数组（原数组递增有序）的第m = math.ceil(K/(n -1)!) = 3（math.ceil表示向上取整）个数。\n",
    "\n",
    "### python 知识\n",
    "1. 向上取整 math.ceil(2.3) 返回是的个浮点数\n"
   ]
  },
  {
   "cell_type": "markdown",
   "metadata": {},
   "source": [
    "##  Time Limit Exceeded  Code"
   ]
  },
  {
   "cell_type": "code",
   "execution_count": 19,
   "metadata": {
    "collapsed": false
   },
   "outputs": [
    {
     "name": "stdout",
     "output_type": "stream",
     "text": [
      "res: 783269514\n",
      "CPU times: user 416 ms, sys: 7.12 ms, total: 423 ms\n",
      "Wall time: 447 ms\n"
     ]
    },
    {
     "data": {
      "text/plain": [
       "'783269514'"
      ]
     },
     "execution_count": 19,
     "metadata": {},
     "output_type": "execute_result"
    }
   ],
   "source": [
    "class Solution(object):\n",
    "    def getPermutation(self, n, k):\n",
    "        \"\"\"\n",
    "        :type n: int\n",
    "        :type k: int\n",
    "        :rtype: str\n",
    "        \"\"\"\n",
    "        if n < 2:\n",
    "            return str(n)\n",
    "        l = range(1,n + 1)\n",
    "        count = 0\n",
    "        flag = True\n",
    "        while flag:\n",
    "            count +=1\n",
    "            if count == k:\n",
    "                return \"\".join([str(i) for i in l])\n",
    "            \n",
    "            p1 = 0\n",
    "            for i in xrange(n - 2, -1, -1):\n",
    "                if l[i] < l[i + 1]:\n",
    "                    p1 = i\n",
    "                    break\n",
    "                elif i == 0 :\n",
    "                    flag = False\n",
    "            \n",
    "            for j in xrange(n - 1, -1 , -1):\n",
    "                if l[j] > l[p1]:\n",
    "                    l[j], l[p1] = l[p1], l[j]\n",
    "                    break\n",
    "            \n",
    "            left = p1 + 1\n",
    "            right = n - 1\n",
    "            l[left:right + 1 ] = l[right: left - 1: -1]\n",
    "\n",
    "t = Solution()\n",
    "print \"res: 783269514\"\n",
    "%time t.getPermutation(9, 273815)            "
   ]
  },
  {
   "cell_type": "markdown",
   "metadata": {},
   "source": [
    "## AC code\n",
    "Your runtime beats 84.55% of python submissions."
   ]
  },
  {
   "cell_type": "code",
   "execution_count": 23,
   "metadata": {
    "collapsed": false
   },
   "outputs": [
    {
     "name": "stdout",
     "output_type": "stream",
     "text": [
      "res: 783269514\n",
      "CPU times: user 26 µs, sys: 8 µs, total: 34 µs\n",
      "Wall time: 42.2 µs\n"
     ]
    },
    {
     "data": {
      "text/plain": [
       "'783269514'"
      ]
     },
     "execution_count": 23,
     "metadata": {},
     "output_type": "execute_result"
    }
   ],
   "source": [
    "class Solution(object):\n",
    "    def getPermutation(self, n, k):\n",
    "        \"\"\"\n",
    "        :type n: int\n",
    "        :type k: int\n",
    "        :rtype: str\n",
    "        \"\"\"\n",
    "        if n < 2:\n",
    "            return str(n)\n",
    "        res = ''\n",
    "        k -= 1\n",
    "        fac = 1\n",
    "        for i in range(1, n):\n",
    "            fac *= i\n",
    "        num = range(1, 10)\n",
    "        for i in range(n-1, -1, -1):\n",
    "            curr = num[k/fac]\n",
    "            res +=str(curr)\n",
    "            num.remove(curr)\n",
    "            if i != 0:\n",
    "                k %= fac\n",
    "                fac /= i\n",
    "        return res\n",
    "\n",
    "t = Solution()\n",
    "print \"res: 783269514\"\n",
    "%time t.getPermutation(9, 273815)                   "
   ]
  },
  {
   "cell_type": "code",
   "execution_count": 22,
   "metadata": {
    "collapsed": false
   },
   "outputs": [
    {
     "data": {
      "text/plain": [
       "[1, 2, 3, 4, 5, 6, 7, 8, 9]"
      ]
     },
     "execution_count": 22,
     "metadata": {},
     "output_type": "execute_result"
    }
   ],
   "source": [
    "range(1,10)"
   ]
  },
  {
   "cell_type": "code",
   "execution_count": 18,
   "metadata": {
    "collapsed": false
   },
   "outputs": [
    {
     "data": {
      "text/plain": [
       "2"
      ]
     },
     "execution_count": 18,
     "metadata": {},
     "output_type": "execute_result"
    }
   ],
   "source": []
  },
  {
   "cell_type": "code",
   "execution_count": null,
   "metadata": {
    "collapsed": true
   },
   "outputs": [],
   "source": []
  }
 ],
 "metadata": {
  "kernelspec": {
   "display_name": "Python 2",
   "language": "python",
   "name": "python2"
  },
  "language_info": {
   "codemirror_mode": {
    "name": "ipython",
    "version": 2
   },
   "file_extension": ".py",
   "mimetype": "text/x-python",
   "name": "python",
   "nbconvert_exporter": "python",
   "pygments_lexer": "ipython2",
   "version": "2.7.11"
  }
 },
 "nbformat": 4,
 "nbformat_minor": 0
}
