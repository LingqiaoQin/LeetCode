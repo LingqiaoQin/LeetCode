{
 "cells": [
  {
   "cell_type": "markdown",
   "metadata": {},
   "source": [
    "# 030. Substring with Concatenation of All Words   \n",
    "## Question\n",
    "\n",
    "Total Accepted: 67300\n",
    "    \n",
    "Total Submissions: 312275\n",
    "    \n",
    "Difficulty: Hard\n",
    "\n",
    "You are given a string, s, and a list of words, words, that are all of the same length. Find all starting indices of substring(s) in s that is a concatenation of each word in words exactly once and without any intervening characters.\n",
    "\n",
    "For example, given:\n",
    "```py\n",
    "s: \"barfoothefoobarman\"\n",
    "words: [\"foo\", \"bar\"]\n",
    "```\n",
    "You should return the indices: `[0,9]`.\n",
    "\n",
    "(order does not matter)."
   ]
  },
  {
   "cell_type": "markdown",
   "metadata": {},
   "source": [
    "##  思路\n",
    "给一个字符串 S 和一个单词列表，单词长度都一样，找出所有 S 的子串，子串由所有单词组成，返回子串的起始位置。\n",
    "\n",
    "想法一：假设L中的单位长度为n，依次从S中取长度为n的子串，如果在L中，就记下来。需要借助hash或map，如果整个L都匹配完了，就算是一个concatenation；当匹配错误的时候，S右移一个位置。"
   ]
  },
  {
   "cell_type": "markdown",
   "metadata": {},
   "source": [
    "## 坑\n",
    "\n",
    "Python中的对象之间赋值时是按引用传递的，如果需要拷贝对象，需要使用标准库中的copy模块。\n",
    "\n",
    "1. copy.copy 浅拷贝 只拷贝父对象，不会拷贝对象的内部的子对象。\n",
    "2. copy.deepcopy 深拷贝 拷贝对象及其子对象\n",
    "\n",
    "注意：还有一种浅拷贝的方式，就是使用类似于 a = set(a)这种格式,即复制列表L,使用list(L),要复制一个字典d,使用 dict(d),要复制一个集合s,使用set(s),这样,我们总结出一个规律,如果你要复制一个对象o,它属于内建的类型t,那么你可以使用t(o) 来获得一个拷贝.dict也提供了一个复制版本,dict.copy,这个和dict(d)是一样,我推荐你使用后者,这个使得代码更一致,而且还少几个字符."
   ]
  },
  {
   "cell_type": "markdown",
   "metadata": {},
   "source": [
    "## code 超时"
   ]
  },
  {
   "cell_type": "code",
   "execution_count": 21,
   "metadata": {
    "collapsed": false
   },
   "outputs": [
    {
     "data": {
      "text/plain": [
       "[0, 9]"
      ]
     },
     "execution_count": 21,
     "metadata": {},
     "output_type": "execute_result"
    }
   ],
   "source": [
    "class Solution(object):\n",
    "    def findSubstring(self, s, words):\n",
    "        \"\"\"\n",
    "        :type s: str\n",
    "        :type words: List[str]\n",
    "        :rtype: List[int]\n",
    "        \"\"\"\n",
    "        if len(words) == 0:\n",
    "            return []\n",
    "        res = []\n",
    "        \n",
    "        d = {}\n",
    "        for w in words:\n",
    "            if w in d:\n",
    "                d[w] += 1\n",
    "            else:\n",
    "                d[w] = 1\n",
    "                \n",
    "        n = len(s)\n",
    "        size = len (words[0])\n",
    "        c = len(words)\n",
    "        \n",
    "        i = 0\n",
    "        while i <= n -size * c:\n",
    "            sub = s[i : i + size * c]\n",
    "            l = self.match(sub, size, d)\n",
    "            if l == True:\n",
    "                res.append(i)\n",
    "            i += 1\n",
    "        \n",
    "        return res\n",
    "      \n",
    "    def match(self, sub, size, d):\n",
    "        tmp = d.copy()\n",
    "        for t in tmp:\n",
    "            tmp[t] = 0\n",
    "        n1 = len(sub)\n",
    "        j = 0\n",
    "        while j <= n1 - size:\n",
    "            if sub[j:j + size] in tmp:\n",
    "                tmp[sub[j:j + size]] +=1\n",
    "            j += size\n",
    "        \n",
    "        for t2 in tmp:\n",
    "            if tmp[t2] != d[t2]:\n",
    "                return False\n",
    "        return True\n",
    "test = Solution()\n",
    "test.findSubstring(\"barfoothefoobarman\",[\"foo\",\"bar\"])"
   ]
  },
  {
   "cell_type": "markdown",
   "metadata": {},
   "source": [
    "### 下面这个显示超时"
   ]
  },
  {
   "cell_type": "code",
   "execution_count": 23,
   "metadata": {
    "collapsed": false
   },
   "outputs": [
    {
     "data": {
      "text/plain": [
       "[]"
      ]
     },
     "execution_count": 23,
     "metadata": {},
     "output_type": "execute_result"
    }
   ],
   "source": [
    "test = Solution()\n",
    "test.findSubstring(\"abababababababababababababababababababababababababababababababababababababababababababababababababababababababababababababababababababababababababababababababababababababababababababababababababababababababababababababababababababababababababababababababababababababababababababababababababababababababababababababababababababababababababababababababababababababababababababababababababababababababababababababababababababababababababababababababababababababababababababababababababababababababababababababababababababababababababababababababababababababababababababababababababababababababababababababababababababababababababababababababababababababababababababababababababababababababababababababababababababababababababababababababababababababababababababababababababababababababababababababababababababababababababababababababababababababababababababababababababababababababababababababababababababababababababababababababababababababababababababababababababababababababababababababababababababababababababababababababababababababababababababababababababababababababababababababababababababababababababababababababababababababababababababababababababababababababababababababababababababababababababababababababababababababababababababababababababababababababababababababababababababababababababababababababababababababababababababababababababababababababababababababababababababababababababababababababababababababababababababababababababababababababababababababababababababababababababababababababababababababababababababababababababababababababababababababababababababababababababababababababababababababababababababababababababababababababababababababababababababababababababababababababababababababababababababababababababababababababababababababababababababababababababababababababababababababababababababababababababababababababababababababababababababababababababababababababababababababababababababababababababababababababababababababababababababababababababababababababababababababababababababababababababababababababababababababababababababababababababababababababababababababababababababababababababababababababababababababababababababababababababababababababababababababababababababababababababababababababababababababababababababababababababababababababababababababababababababababababababababababababababababababababababababababababababababababababababababababababababababababababababababababababababababababababababababababababababababababababababababababababababababababababababababababababababababababababababababababababababababababababababababababababababababababababababababababababababababababababababababababababababababababababababababababababababababababababababababababababababababababababababababababababababababababababababababababababababababababababababababababababababababababababababababababababababababababababababababababababababababababababababababababababababababababababababababababababababababababababababababababababababababababababababababababababababababababababababababababababababababababababababababababababababababababababababababababababababababababababababababababababababababababababababababababababababababababababababababababababababababababababababababababababababababababababababababababababababababababababababababababababababababababababababababababababababababababababababababababababababababababababababababababababababababababababababababababababababababababababababababababababababababababababababababababababababababababababababababababababababababababababababababababababababababababababababababababababababababababababababababababababababababababababababababababababababababababababababababababababababababababababababababababababababababababababababababababababababababababababababababababababababababababababababababababababababababababababababababababababababababababababababababababababababababababababababababababababababababababababababababababababababababababababababababababababababababababababababababababababababababababababababababababababababababababababababababababababababababababababababababababababababababababababababababababababababababababababababababababababababababababababababababababababababababababababababababababababababababababababababababababababababababababababababababababababababababababababababababababababababababababababababababababababababababababababababababababababababababababababababababababababababababababababababababababababababababababababababababababababababababababababababababababababababababababababababababababababababababababababababababababababababababababababababababababababababababababababababababababababababababababababababababababababababababababababababababababababababababababababababababababababababababababababababababababababababababababababababababababababababababababababababababababababababababababababababababababababababababababababababababababababababababababababababababababababababababababababababababababababababababababababababababababababababababababababababababababababababababababababababababababababababababababababababababababababababababababababababababababababababababababababababababababababababababababababababababababababababababababababababababababababababababababababababababababababababababababababababababababababababababababababababababababababababababababababababababababababababababababababababababababababababababababababababababababababababababababababababababababababababababababababababababababababababababababababababababababababababababababababababababababababababababababababababababababababababababababababababababababababababababababababababababababababababababababababababababababababababababababababababababababababababababababababababababababababababababababababababababababababababababababababababababababababababababababababababababababababababababababababababababababababababababababababababababababababababababababababababababababababababababababababababababababababababababababababababababababababababababababababababababababababababababababababababababababababababababababababababababababababababababababababababababababababababababababababababababababababababababababababababababababababababababababababababababababababababababababababababababababababababababababababababababababababababababababababababababababababababababababababababababababababababababababababababababababababababababababababababababababababababababababababababababababababababababababababababababababababababababababababababababababababababababababababababababababababababababababababababababababababababababababababababababababababababababababababababababababababababababababababababababababababababababababababababababababababababababababababababababababababababababababababababababababababababababababababababababababababababababababababababababababababababababababababababababababababababababababababababababababababababababababababababababababababababababababababababababababababababababababababababababababababababababababababababababababababababababababababababababababababababababababababababababababababababababababababababababababababababababababababababababababababababababababababababababababababababababababababababababababababababababababababababababababababababababababababababababababababababababababababababababababababababababababababababababababababababababababababababababababababababababababababababababababababababababababababababababababababababababababababababababababababababababababababababababababababababababababababababababababababababababababababababababababababababababababababababababababababababababababababababababababababababababababababababababababababababababababababababababababababababababababababababababababababababababababababababababababababababababababababababababababababababababababababababababababababababababababababababababababababababababababababababababababababababababababababababababababababababababababababababababababababababababababababababababababababababababababababababababababababababababababababababababababababababababababababababababababababababababababababababababababababababababababababababababababababababababababababababababababababababababababababababababababababababababababababababababababababababababababababababababababababababababababababababababababababababababababababababababababababababababababababababababababababababababababababababababababababababababababababababababababababababababababababababababababababababababababababababababababababababababababababababababababababababababababababababababababababababababababababababababababababababababababababababababababababababababababababababababababababababababababababababababababababababababababababababababababababababababababababababababababababababababababababababababababababababababababababababababababababababababababababababababababababababababababababababababababababababababababababababababababababababababababababababababababababababababababababababababababababababababababababababababababababababababababababababababababababababababababababababababababababababababababababababababababababababababababababababababababababababababababababababababababababababababababababababababababababababababababababababababababababababababababababababababababababababababababababababababababababababababababababababababababababababababababababababababababababababababababababababababababababababababababababababababababababababababababababababababababababababababababababababababababababababababababababababababababababababababababababababababababababababababababababababababababababababababababababababababababababababababababababababababababababababababababababababababababababababababababababababababababababababababababababababababababababababababababababababababababababababababababababababababababababababababababababababababababababababababababababababababababababababababababababababababababababababababababababababababababababababababababababababababababababababababababababababababababababababababababababababababababababab\",[\"ab\",\"ba\",\"ab\",\"ba\",\"ab\",\"ba\",\"ab\",\"ba\",\"ab\",\"ba\",\"ab\",\"ba\",\"ab\",\"ba\",\"ab\",\"ba\",\"ab\",\"ba\",\"ab\",\"ba\",\"ab\",\"ba\",\"ab\",\"ba\",\"ab\",\"ba\",\"ab\",\"ba\",\"ab\",\"ba\",\"ab\",\"ba\",\"ab\",\"ba\",\"ab\",\"ba\",\"ab\",\"ba\",\"ab\",\"ba\",\"ab\",\"ba\",\"ab\",\"ba\",\"ab\",\"ba\",\"ab\",\"ba\",\"ab\",\"ba\",\"ab\",\"ba\",\"ab\",\"ba\",\"ab\",\"ba\",\"ab\",\"ba\",\"ab\",\"ba\",\"ab\",\"ba\",\"ab\",\"ba\",\"ab\",\"ba\",\"ab\",\"ba\",\"ab\",\"ba\",\"ab\",\"ba\",\"ab\",\"ba\",\"ab\",\"ba\",\"ab\",\"ba\",\"ab\",\"ba\",\"ab\",\"ba\",\"ab\",\"ba\",\"ab\",\"ba\",\"ab\",\"ba\",\"ab\",\"ba\",\"ab\",\"ba\",\"ab\",\"ba\",\"ab\",\"ba\",\"ab\",\"ba\",\"ab\",\"ba\",\"ab\",\"ba\",\"ab\",\"ba\",\"ab\",\"ba\",\"ab\",\"ba\",\"ab\",\"ba\",\"ab\",\"ba\",\"ab\",\"ba\",\"ab\",\"ba\",\"ab\",\"ba\",\"ab\",\"ba\",\"ab\",\"ba\",\"ab\",\"ba\",\"ab\",\"ba\",\"ab\",\"ba\",\"ab\",\"ba\",\"ab\",\"ba\",\"ab\",\"ba\",\"ab\",\"ba\",\"ab\",\"ba\",\"ab\",\"ba\",\"ab\",\"ba\",\"ab\",\"ba\",\"ab\",\"ba\",\"ab\",\"ba\",\"ab\",\"ba\",\"ab\",\"ba\",\"ab\",\"ba\",\"ab\",\"ba\",\"ab\",\"ba\",\"ab\",\"ba\",\"ab\",\"ba\",\"ab\",\"ba\",\"ab\",\"ba\",\"ab\",\"ba\",\"ab\",\"ba\",\"ab\",\"ba\",\"ab\",\"ba\",\"ab\",\"ba\",\"ab\",\"ba\",\"ab\",\"ba\",\"ab\",\"ba\",\"ab\",\"ba\",\"ab\",\"ba\",\"ab\",\"ba\",\"ab\",\"ba\",\"ab\",\"ba\",\"ab\",\"ba\",\"ab\",\"ba\",\"ab\",\"ba\",\"ab\",\"ba\"])"
   ]
  },
  {
   "cell_type": "markdown",
   "metadata": {},
   "source": [
    "## code2 Runtime: 632 ms\n",
    "将match 中的逻辑改为 ：如果这些字符串出现在字典里面，字典对应的次数-1.如果所有字典为0则满足。 减少了一次对dict的循环。"
   ]
  },
  {
   "cell_type": "code",
   "execution_count": 24,
   "metadata": {
    "collapsed": true
   },
   "outputs": [],
   "source": [
    "class Solution(object):\n",
    "    def findSubstring(self, s, words):\n",
    "        \"\"\"\n",
    "        :type s: str\n",
    "        :type words: List[str]\n",
    "        :rtype: List[int]\n",
    "        \"\"\"\n",
    "        if len(words) == 0:\n",
    "            return []\n",
    "        res = []\n",
    "        \n",
    "        d = {}\n",
    "        for w in words:\n",
    "            if w in d:\n",
    "                d[w] += 1\n",
    "            else:\n",
    "                d[w] = 1\n",
    "                \n",
    "        n = len(s)\n",
    "        size = len (words[0])\n",
    "        c = len(words)\n",
    "        \n",
    "        i = 0\n",
    "        while i <= n -size * c:\n",
    "            sub = s[i : i + size * c]\n",
    "            l = self.match(sub, size, d)\n",
    "            if l == True:\n",
    "                res.append(i)\n",
    "            i += 1\n",
    "        \n",
    "        return res\n",
    "      \n",
    "    def match(self, sub, size, d):\n",
    "        tmp = d.copy()\n",
    "        n1 = len(sub)\n",
    "        j = 0\n",
    "        while j <= n1 - size:\n",
    "            if sub[j:j + size] in tmp and tmp[sub[j:j + size]] != 0:\n",
    "                tmp[sub[j:j + size]] -= 1\n",
    "            else:\n",
    "                return False\n",
    "            j += size\n",
    "        return True"
   ]
  },
  {
   "cell_type": "code",
   "execution_count": null,
   "metadata": {
    "collapsed": true
   },
   "outputs": [],
   "source": []
  },
  {
   "cell_type": "code",
   "execution_count": null,
   "metadata": {
    "collapsed": true
   },
   "outputs": [],
   "source": []
  }
 ],
 "metadata": {
  "kernelspec": {
   "display_name": "Python 2",
   "language": "python",
   "name": "python2"
  },
  "language_info": {
   "codemirror_mode": {
    "name": "ipython",
    "version": 2
   },
   "file_extension": ".py",
   "mimetype": "text/x-python",
   "name": "python",
   "nbconvert_exporter": "python",
   "pygments_lexer": "ipython2",
   "version": "2.7.11"
  }
 },
 "nbformat": 4,
 "nbformat_minor": 0
}
