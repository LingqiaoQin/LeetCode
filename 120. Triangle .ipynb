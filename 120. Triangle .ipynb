{
 "cells": [
  {
   "cell_type": "markdown",
   "metadata": {},
   "source": [
    "# 120. Triangle   \n",
    "\n",
    "## Question\n",
    "\n",
    "- Total Accepted: 87487\n",
    "- Total Submissions: 272597\n",
    "- Difficulty: Medium\n",
    "\n",
    "Given a triangle, find the minimum path sum from top to bottom. Each step you may move to adjacent numbers on the row below.\n",
    "\n",
    "For example, given the following triangle\n",
    "```\n",
    "[\n",
    "     [2],\n",
    "    [3,4],\n",
    "   [6,5,7],\n",
    "  [4,1,8,3]\n",
    "]\n",
    "```\n",
    "The minimum path sum from top to bottom is 11 `(i.e., 2 + 3 + 5 + 1 = 11).`\n",
    "\n",
    "Note:\n",
    "Bonus point if you are able to do this using only O(n) extra space, where n is the total number of rows in the triangle.\n"
   ]
  },
  {
   "cell_type": "markdown",
   "metadata": {},
   "source": [
    "## 思路\n",
    "\n",
    "解题思路：使用动态规划（dp）。需要注意的是从后往前更新！\n",
    "\n",
    "一维DP。逐行扫描，每一个位置能取得的最小sum，是该元素上面两个能取得的最小sum中最小的那一个sum加上自己的值。只需要开一个数组重复利用就行了。\n",
    "\n",
    "实现的时候，有些繁琐的地方，这个题比较好从下往上扫描。如果从上往下，其中minV的初始值问题就很头疼。\n",
    "\n",
    "\n",
    "## 知识点\n",
    "\n",
    "- list 的copy  new = old[:]\n",
    "\n",
    "- dict 的copy new = old.copy()"
   ]
  },
  {
   "cell_type": "markdown",
   "metadata": {},
   "source": [
    "## code Runtime: 59 ms\n",
    "\n",
    "Your runtime beats 54.71% of python submissions."
   ]
  },
  {
   "cell_type": "code",
   "execution_count": 35,
   "metadata": {
    "collapsed": false
   },
   "outputs": [
    {
     "name": "stdout",
     "output_type": "stream",
     "text": [
      "11\n",
      "-1\n"
     ]
    }
   ],
   "source": [
    "class Solution(object):\n",
    "    def minimumTotal(self, triangle):\n",
    "        \"\"\"\n",
    "        :type triangle: List[List[int]]\n",
    "        :rtype: int\n",
    "        \"\"\"\n",
    "        if len (triangle) == 0:\n",
    "            return 0\n",
    "        if len(triangle) == 1:\n",
    "            return triangle[0][0]\n",
    "        \n",
    "        n = len(triangle)\n",
    "        path = [0]*n        \n",
    "        for row in triangle:\n",
    "            old_path = path[:]\n",
    "            for j in range(len(row)):\n",
    "                if j == 0 :\n",
    "                    path[j] = old_path[j] + row[j]\n",
    "                elif j == len(row) - 1:\n",
    "                    path[j] = old_path[j - 1 ] + row[j]\n",
    "                else:\n",
    "                    path[j] = min(old_path[j], old_path[ j -  1]) + row[j]\n",
    "                           \n",
    "        return min(path)\n",
    "\n",
    "t = Solution()\n",
    "print t.minimumTotal([[2],[3,4],[6,5,7],[4,1,8,3]])\n",
    "print t.minimumTotal([[-1],[2,3],[1,-1,-3]])"
   ]
  },
  {
   "cell_type": "code",
   "execution_count": null,
   "metadata": {
    "collapsed": true
   },
   "outputs": [],
   "source": []
  }
 ],
 "metadata": {
  "kernelspec": {
   "display_name": "Python 2",
   "language": "python",
   "name": "python2"
  },
  "language_info": {
   "codemirror_mode": {
    "name": "ipython",
    "version": 2
   },
   "file_extension": ".py",
   "mimetype": "text/x-python",
   "name": "python",
   "nbconvert_exporter": "python",
   "pygments_lexer": "ipython2",
   "version": "2.7.11"
  }
 },
 "nbformat": 4,
 "nbformat_minor": 0
}
